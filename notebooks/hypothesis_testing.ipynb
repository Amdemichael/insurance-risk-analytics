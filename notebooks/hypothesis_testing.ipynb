{
 "cells": [
  {
   "cell_type": "code",
   "execution_count": 7,
   "metadata": {},
   "outputs": [],
   "source": [
    "# Import required libraries and custom module\n",
    "import sys\n",
    "import os\n",
    "import pandas as pd\n",
    "import matplotlib.pyplot as plt\n",
    "import seaborn as sns\n",
    "\n",
    "\n",
    "# Add src to path\n",
    "sys.path.append(os.path.abspath(os.path.join(os.getcwd(), '..', 'src')))\n",
    "from hypothesis_testing import prepare_data, check_group_balance, test_hypothesis, visualize_results, generate_business_recommendations\n",
    "\n",
    "# Enable inline plotting\n",
    "%matplotlib inline"
   ]
  },
  {
   "cell_type": "code",
   "execution_count": 8,
   "metadata": {},
   "outputs": [
    {
     "name": "stderr",
     "output_type": "stream",
     "text": [
      "WARNING: failed to collect 'workspace', skipping\n",
      "ERROR: failed to pull data from the cloud - 'd:\\Projects\\Python\\insurance-risk-analytics\\notebooks\\data\\processed\\cleaned_data.csv.dvc' does not exist\n"
     ]
    },
    {
     "name": "stdout",
     "output_type": "stream",
     "text": [
      "   UnderwrittenCoverID  PolicyID TransactionMonth  IsVATRegistered  \\\n",
      "0               145249     12827       2015-03-01             True   \n",
      "1               145249     12827       2015-05-01             True   \n",
      "2               145249     12827       2015-07-01             True   \n",
      "3               145255     12827       2015-05-01             True   \n",
      "4               145255     12827       2015-07-01             True   \n",
      "\n",
      "  Citizenship          LegalType Title Language                 Bank  \\\n",
      "0              Close Corporation    Mr  English  First National Bank   \n",
      "1              Close Corporation    Mr  English  First National Bank   \n",
      "2              Close Corporation    Mr  English  First National Bank   \n",
      "3              Close Corporation    Mr  English  First National Bank   \n",
      "4              Close Corporation    Mr  English  First National Bank   \n",
      "\n",
      "       AccountType  ...                          Product StatutoryClass  \\\n",
      "0  Current account  ...  Mobility Metered Taxis: Monthly     Commercial   \n",
      "1  Current account  ...  Mobility Metered Taxis: Monthly     Commercial   \n",
      "2  Current account  ...  Mobility Metered Taxis: Monthly     Commercial   \n",
      "3  Current account  ...  Mobility Metered Taxis: Monthly     Commercial   \n",
      "4  Current account  ...  Mobility Metered Taxis: Monthly     Commercial   \n",
      "\n",
      "  StatutoryRiskType TotalPremium  TotalClaims LossRatio HasClaim  \\\n",
      "0     IFRS Constant    21.929825          0.0       0.0        0   \n",
      "1     IFRS Constant    21.929825          0.0       0.0        0   \n",
      "2     IFRS Constant     0.000000          0.0       0.0        0   \n",
      "3     IFRS Constant   512.848070          0.0       0.0        0   \n",
      "4     IFRS Constant     0.000000          0.0       0.0        0   \n",
      "\n",
      "  ClaimSeverity      Margin ZipGroup  \n",
      "0           NaN   21.929825      Low  \n",
      "1           NaN   21.929825      Low  \n",
      "2           NaN    0.000000      Low  \n",
      "3           NaN  512.848070      Low  \n",
      "4           NaN    0.000000      Low  \n",
      "\n",
      "[5 rows x 57 columns]\n"
     ]
    }
   ],
   "source": [
    "# Pull data from DVC\n",
    "!dvc pull data/processed/cleaned_data.csv.dvc\n",
    "\n",
    "# Load and prepare data\n",
    "data_path = os.path.join(os.getcwd(), '..', 'data', 'processed', 'cleaned_data.csv')\n",
    "df = pd.read_csv(data_path)\n",
    "df = prepare_data(df)\n",
    "\n",
    "# Add ZipGroup for segmentation\n",
    "df['ZipGroup'] = pd.qcut(df['PostalCode'].rank(method='first'), 2, labels=['Low', 'High'])\n",
    "\n",
    "# Display basic info\n",
    "print(df.head())"
   ]
  },
  {
   "cell_type": "code",
   "execution_count": 3,
   "metadata": {},
   "outputs": [
    {
     "name": "stdout",
     "output_type": "stream",
     "text": [
      "\n",
      "=== Hypothesis 1: No risk differences across provinces ===\n",
      "Group: Control: Gauteng, Test: Western Cape\n",
      "Mean_RegistrationYear: Control 2010.24, Test 2010.38\n",
      "VehicleType_Dist_Control: {'Passenger Vehicle': 0.9455295596206822, 'Medium Commercial': 0.0478234928211443, 'Heavy Commercial': 0.0035799068208650173, 'Light Commercial': 0.0028131466365379, 'Bus': 0.0002538941007705686}\n",
      "VehicleType_Dist_Test: {'Passenger Vehicle': 0.9368603480175179, 'Medium Commercial': 0.039801868896227076, 'Heavy Commercial': 0.017014449987119137, 'Light Commercial': 0.006024731258343287, 'Bus': 0.0002986018407925244}\n",
      "PlanType_Dist_Control: {}\n",
      "Claim Frequency - Chi-squared: Stat: 56.09, p-value: 0.0000, Reject H0\n",
      "Claim Severity - t-test: Stat: -2.17, p-value: 0.0306, Reject H0\n"
     ]
    }
   ],
   "source": [
    "# Initialize results list\n",
    "results = []\n",
    "\n",
    "# Hypothesis 1: No risk differences across provinces (Gauteng vs Western Cape)\n",
    "print(\"\\n=== Hypothesis 1: No risk differences across provinces ===\")\n",
    "df_prov = df[df['Province'].isin(['Gauteng', 'Western Cape'])].copy()\n",
    "balance_report = check_group_balance(df_prov, ['RegistrationYear', 'VehicleType', 'PlanType'], 'Province', 'Gauteng', 'Western Cape')\n",
    "for key, value in balance_report.items():\n",
    "    print(f\"{key}: {value}\")\n",
    "\n",
    "# Claim Frequency\n",
    "freq_result = test_hypothesis('Province', df_prov, 'ClaimFrequency', 'Gauteng', 'Western Cape')\n",
    "results.append({'Hypothesis': 'No risk differences across provinces (Frequency)', 'Control': 'Gauteng', 'Test': 'Western Cape', **freq_result})\n",
    "print(f\"Claim Frequency - {freq_result['Test']}: Stat: {freq_result['Statistic']:.2f}, p-value: {freq_result['p-value']:.4f}, {freq_result['Decision']}\")\n",
    "\n",
    "# Claim Severity\n",
    "sev_result = test_hypothesis('Province', df_prov, 'ClaimSeverity', 'Gauteng', 'Western Cape')\n",
    "results.append({'Hypothesis': 'No risk differences across provinces (Severity)', 'Control': 'Gauteng', 'Test': 'Western Cape', **sev_result})\n",
    "print(f\"Claim Severity - {sev_result['Test']}: Stat: {sev_result['Statistic']:.2f}, p-value: {sev_result['p-value']:.4f}, {sev_result['Decision']}\")\n",
    "\n",
    "# Visualization\n",
    "visualize_results(df_prov, 'Province', 'ClaimFrequency', 'Gauteng', 'Western Cape', 'claim_frequency_province.png')"
   ]
  },
  {
   "cell_type": "code",
   "execution_count": 7,
   "metadata": {},
   "outputs": [
    {
     "name": "stdout",
     "output_type": "stream",
     "text": [
      "\n",
      "=== Hypothesis 2: No risk differences between zip codes ===\n",
      "Group: Control: Low, Test: High\n",
      "Mean_RegistrationYear: Control 2010.20, Test 2010.25\n",
      "VehicleType_Dist_Control: {'Passenger Vehicle': 0.919761863337393, 'Medium Commercial': 0.06783935174352913, 'Heavy Commercial': 0.007279286629910269, 'Light Commercial': 0.004051602942911595, 'Bus': 0.001067895346256067}\n",
      "VehicleType_Dist_Test: {'Passenger Vehicle': 0.948355061204002, 'Medium Commercial': 0.040120068233313134, 'Heavy Commercial': 0.007521262916234209, 'Light Commercial': 0.0037416333199346463, 'Bus': 0.0002619743265160014}\n",
      "PlanType_Dist_Control: {}\n",
      "Claim Frequency - Chi-squared: Stat: 10.27, p-value: 0.0013, Reject H0\n",
      "Claim Severity - t-test: Stat: -5.64, p-value: 0.0000, Reject H0\n"
     ]
    }
   ],
   "source": [
    "# Hypothesis 2: No risk differences between zip codes (Low vs High)\n",
    "print(\"\\n=== Hypothesis 2: No risk differences between zip codes ===\")\n",
    "df_zip = df[df['ZipGroup'].isin(['Low', 'High'])].copy()\n",
    "balance_report = check_group_balance(df_zip, ['RegistrationYear', 'VehicleType', 'PlanType'], 'ZipGroup', 'Low', 'High')\n",
    "for key, value in balance_report.items():\n",
    "    print(f\"{key}: {value}\")\n",
    "\n",
    "# Claim Frequency\n",
    "freq_result = test_hypothesis('ZipGroup', df_zip, 'ClaimFrequency', 'Low', 'High')\n",
    "results.append({'Hypothesis': 'No risk differences between zip codes (Frequency)', 'Control': 'Low', 'Test': 'High', **freq_result})\n",
    "print(f\"Claim Frequency - {freq_result['Test']}: Stat: {freq_result['Statistic']:.2f}, p-value: {freq_result['p-value']:.4f}, {freq_result['Decision']}\")\n",
    "\n",
    "# Claim Severity\n",
    "sev_result = test_hypothesis('ZipGroup', df_zip, 'ClaimSeverity', 'Low', 'High')\n",
    "results.append({'Hypothesis': 'No risk differences between zip codes (Severity)', 'Control': 'Low', 'Test': 'High', **sev_result})\n",
    "print(f\"Claim Severity - {sev_result['Test']}: Stat: {sev_result['Statistic']:.2f}, p-value: {sev_result['p-value']:.4f}, {sev_result['Decision']}\")\n",
    "\n",
    "# Visualization\n",
    "visualize_results(df_zip, 'ZipGroup', 'ClaimSeverity', 'Low', 'High', 'claim_severity_zip.png')"
   ]
  },
  {
   "cell_type": "code",
   "execution_count": 8,
   "metadata": {},
   "outputs": [
    {
     "name": "stdout",
     "output_type": "stream",
     "text": [
      "\n",
      "=== Hypothesis 3: No margin differences between zip codes ===\n",
      "Margin - t-test: Stat: 1.23, p-value: 0.2185, Fail to reject H0\n"
     ]
    }
   ],
   "source": [
    "# Hypothesis 3: No margin differences between zip codes\n",
    "print(\"\\n=== Hypothesis 3: No margin differences between zip codes ===\")\n",
    "margin_result = test_hypothesis('ZipGroup', df_zip, 'Margin', 'Low', 'High')\n",
    "results.append({'Hypothesis': 'No margin differences between zip codes', 'Control': 'Low', 'Test': 'High', **margin_result})\n",
    "print(f\"Margin - {margin_result['Test']}: Stat: {margin_result['Statistic']:.2f}, p-value: {margin_result['p-value']:.4f}, {margin_result['Decision']}\")\n",
    "\n",
    "# Visualization\n",
    "visualize_results(df_zip, 'ZipGroup', 'Margin', 'Low', 'High', 'margin_zipcode.png')"
   ]
  },
  {
   "cell_type": "code",
   "execution_count": 9,
   "metadata": {},
   "outputs": [
    {
     "name": "stdout",
     "output_type": "stream",
     "text": [
      "\n",
      "=== Hypothesis 4: No risk differences between Women and Men ===\n",
      "Group: Control: M, Test: F\n",
      "Mean_RegistrationYear: Control nan, Test nan\n",
      "VehicleType_Dist_Control: {}\n",
      "VehicleType_Dist_Test: {}\n",
      "PlanType_Dist_Control: {}\n"
     ]
    },
    {
     "ename": "ValueError",
     "evalue": "No data; `observed` has size 0.",
     "output_type": "error",
     "traceback": [
      "\u001b[1;31m---------------------------------------------------------------------------\u001b[0m",
      "\u001b[1;31mValueError\u001b[0m                                Traceback (most recent call last)",
      "Cell \u001b[1;32mIn[9], line 9\u001b[0m\n\u001b[0;32m      6\u001b[0m     \u001b[38;5;28mprint\u001b[39m(\u001b[38;5;124mf\u001b[39m\u001b[38;5;124m\"\u001b[39m\u001b[38;5;132;01m{\u001b[39;00mkey\u001b[38;5;132;01m}\u001b[39;00m\u001b[38;5;124m: \u001b[39m\u001b[38;5;132;01m{\u001b[39;00mvalue\u001b[38;5;132;01m}\u001b[39;00m\u001b[38;5;124m\"\u001b[39m)\n\u001b[0;32m      8\u001b[0m \u001b[38;5;66;03m# Claim Frequency\u001b[39;00m\n\u001b[1;32m----> 9\u001b[0m freq_result \u001b[38;5;241m=\u001b[39m \u001b[43mtest_hypothesis\u001b[49m\u001b[43m(\u001b[49m\u001b[38;5;124;43m'\u001b[39;49m\u001b[38;5;124;43mGender\u001b[39;49m\u001b[38;5;124;43m'\u001b[39;49m\u001b[43m,\u001b[49m\u001b[43m \u001b[49m\u001b[43mdf_gender\u001b[49m\u001b[43m,\u001b[49m\u001b[43m \u001b[49m\u001b[38;5;124;43m'\u001b[39;49m\u001b[38;5;124;43mClaimFrequency\u001b[39;49m\u001b[38;5;124;43m'\u001b[39;49m\u001b[43m,\u001b[49m\u001b[43m \u001b[49m\u001b[38;5;124;43m'\u001b[39;49m\u001b[38;5;124;43mM\u001b[39;49m\u001b[38;5;124;43m'\u001b[39;49m\u001b[43m,\u001b[49m\u001b[43m \u001b[49m\u001b[38;5;124;43m'\u001b[39;49m\u001b[38;5;124;43mF\u001b[39;49m\u001b[38;5;124;43m'\u001b[39;49m\u001b[43m)\u001b[49m\n\u001b[0;32m     10\u001b[0m results\u001b[38;5;241m.\u001b[39mappend({\u001b[38;5;124m'\u001b[39m\u001b[38;5;124mHypothesis\u001b[39m\u001b[38;5;124m'\u001b[39m: \u001b[38;5;124m'\u001b[39m\u001b[38;5;124mNo risk differences between genders (Frequency)\u001b[39m\u001b[38;5;124m'\u001b[39m, \u001b[38;5;124m'\u001b[39m\u001b[38;5;124mControl\u001b[39m\u001b[38;5;124m'\u001b[39m: \u001b[38;5;124m'\u001b[39m\u001b[38;5;124mM\u001b[39m\u001b[38;5;124m'\u001b[39m, \u001b[38;5;124m'\u001b[39m\u001b[38;5;124mTest\u001b[39m\u001b[38;5;124m'\u001b[39m: \u001b[38;5;124m'\u001b[39m\u001b[38;5;124mF\u001b[39m\u001b[38;5;124m'\u001b[39m, \u001b[38;5;241m*\u001b[39m\u001b[38;5;241m*\u001b[39mfreq_result})\n\u001b[0;32m     11\u001b[0m \u001b[38;5;28mprint\u001b[39m(\u001b[38;5;124mf\u001b[39m\u001b[38;5;124m\"\u001b[39m\u001b[38;5;124mClaim Frequency - \u001b[39m\u001b[38;5;132;01m{\u001b[39;00mfreq_result[\u001b[38;5;124m'\u001b[39m\u001b[38;5;124mTest\u001b[39m\u001b[38;5;124m'\u001b[39m]\u001b[38;5;132;01m}\u001b[39;00m\u001b[38;5;124m: Stat: \u001b[39m\u001b[38;5;132;01m{\u001b[39;00mfreq_result[\u001b[38;5;124m'\u001b[39m\u001b[38;5;124mStatistic\u001b[39m\u001b[38;5;124m'\u001b[39m]\u001b[38;5;132;01m:\u001b[39;00m\u001b[38;5;124m.2f\u001b[39m\u001b[38;5;132;01m}\u001b[39;00m\u001b[38;5;124m, p-value: \u001b[39m\u001b[38;5;132;01m{\u001b[39;00mfreq_result[\u001b[38;5;124m'\u001b[39m\u001b[38;5;124mp-value\u001b[39m\u001b[38;5;124m'\u001b[39m]\u001b[38;5;132;01m:\u001b[39;00m\u001b[38;5;124m.4f\u001b[39m\u001b[38;5;132;01m}\u001b[39;00m\u001b[38;5;124m, \u001b[39m\u001b[38;5;132;01m{\u001b[39;00mfreq_result[\u001b[38;5;124m'\u001b[39m\u001b[38;5;124mDecision\u001b[39m\u001b[38;5;124m'\u001b[39m]\u001b[38;5;132;01m}\u001b[39;00m\u001b[38;5;124m\"\u001b[39m)\n",
      "File \u001b[1;32md:\\Projects\\Python\\insurance-risk-analytics\\src\\hypothesis_testing.py:35\u001b[0m, in \u001b[0;36mtest_hypothesis\u001b[1;34m(group_var, df, metric, control, test, alpha)\u001b[0m\n\u001b[0;32m     33\u001b[0m \u001b[38;5;28;01mif\u001b[39;00m metric \u001b[38;5;241m==\u001b[39m \u001b[38;5;124m'\u001b[39m\u001b[38;5;124mClaimFrequency\u001b[39m\u001b[38;5;124m'\u001b[39m:\n\u001b[0;32m     34\u001b[0m     freq_table \u001b[38;5;241m=\u001b[39m pd\u001b[38;5;241m.\u001b[39mcrosstab(df[group_var], df[\u001b[38;5;124m'\u001b[39m\u001b[38;5;124mHasClaim\u001b[39m\u001b[38;5;124m'\u001b[39m])\n\u001b[1;32m---> 35\u001b[0m     chi2_stat, p_val, dof, ex \u001b[38;5;241m=\u001b[39m \u001b[43mstats\u001b[49m\u001b[38;5;241;43m.\u001b[39;49m\u001b[43mchi2_contingency\u001b[49m\u001b[43m(\u001b[49m\u001b[43mfreq_table\u001b[49m\u001b[43m)\u001b[49m\n\u001b[0;32m     36\u001b[0m     test_type \u001b[38;5;241m=\u001b[39m \u001b[38;5;124m'\u001b[39m\u001b[38;5;124mChi-squared\u001b[39m\u001b[38;5;124m'\u001b[39m\n\u001b[0;32m     37\u001b[0m     stat \u001b[38;5;241m=\u001b[39m chi2_stat\n",
      "File \u001b[1;32md:\\Projects\\Python\\insurance-risk-analytics\\insurance\\lib\\site-packages\\scipy\\stats\\contingency.py:285\u001b[0m, in \u001b[0;36mchi2_contingency\u001b[1;34m(observed, correction, lambda_)\u001b[0m\n\u001b[0;32m    283\u001b[0m     \u001b[38;5;28;01mraise\u001b[39;00m \u001b[38;5;167;01mValueError\u001b[39;00m(\u001b[38;5;124m\"\u001b[39m\u001b[38;5;124mAll values in `observed` must be nonnegative.\u001b[39m\u001b[38;5;124m\"\u001b[39m)\n\u001b[0;32m    284\u001b[0m \u001b[38;5;28;01mif\u001b[39;00m observed\u001b[38;5;241m.\u001b[39msize \u001b[38;5;241m==\u001b[39m \u001b[38;5;241m0\u001b[39m:\n\u001b[1;32m--> 285\u001b[0m     \u001b[38;5;28;01mraise\u001b[39;00m \u001b[38;5;167;01mValueError\u001b[39;00m(\u001b[38;5;124m\"\u001b[39m\u001b[38;5;124mNo data; `observed` has size 0.\u001b[39m\u001b[38;5;124m\"\u001b[39m)\n\u001b[0;32m    287\u001b[0m expected \u001b[38;5;241m=\u001b[39m expected_freq(observed)\n\u001b[0;32m    288\u001b[0m \u001b[38;5;28;01mif\u001b[39;00m np\u001b[38;5;241m.\u001b[39many(expected \u001b[38;5;241m==\u001b[39m \u001b[38;5;241m0\u001b[39m):\n\u001b[0;32m    289\u001b[0m     \u001b[38;5;66;03m# Include one of the positions where expected is zero in\u001b[39;00m\n\u001b[0;32m    290\u001b[0m     \u001b[38;5;66;03m# the exception message.\u001b[39;00m\n",
      "\u001b[1;31mValueError\u001b[0m: No data; `observed` has size 0."
     ]
    }
   ],
   "source": [
    "# Hypothesis 4: No risk differences between Women and Men\n",
    "print(\"\\n=== Hypothesis 4: No risk differences between Women and Men ===\")\n",
    "df_gender = df[df['Gender'].isin(['M', 'F'])].copy()\n",
    "balance_report = check_group_balance(df_gender, ['RegistrationYear', 'VehicleType', 'PlanType'], 'Gender', 'M', 'F')\n",
    "for key, value in balance_report.items():\n",
    "    print(f\"{key}: {value}\")\n",
    "\n",
    "# Claim Frequency\n",
    "freq_result = test_hypothesis('Gender', df_gender, 'ClaimFrequency', 'M', 'F')\n",
    "results.append({'Hypothesis': 'No risk differences between genders (Frequency)', 'Control': 'M', 'Test': 'F', **freq_result})\n",
    "print(f\"Claim Frequency - {freq_result['Test']}: Stat: {freq_result['Statistic']:.2f}, p-value: {freq_result['p-value']:.4f}, {freq_result['Decision']}\")\n",
    "\n",
    "# Claim Severity\n",
    "sev_result = test_hypothesis('Gender', df_gender, 'ClaimSeverity', 'M', 'F')\n",
    "results.append({'Hypothesis': 'No risk differences between genders (Severity)', 'Control': 'M', 'Test': 'F', **sev_result})\n",
    "print(f\"Claim Severity - {sev_result['Test']}: Stat: {sev_result['Statistic']:.2f}, p-value: {sev_result['p-value']:.4f}, {sev_result['Decision']}\")\n",
    "\n",
    "# Visualization\n",
    "visualize_results(df_gender, 'Gender', 'ClaimFrequency', 'M', 'F', 'claim_frequency_gender.png')"
   ]
  },
  {
   "cell_type": "code",
   "execution_count": null,
   "metadata": {},
   "outputs": [],
   "source": [
    "# Generate and display business recommendations\n",
    "results_df = pd.DataFrame(results)\n",
    "recommendations = generate_business_recommendations(df, results_df)\n",
    "print(\"\\n=== Business Recommendations ===\")\n",
    "for rec in recommendations:\n",
    "    print(rec)\n",
    "\n",
    "# Save results\n",
    "os.makedirs('data', exist_ok=True)\n",
    "results_df.to_csv('data/hypothesis_test_results.csv', index=False)\n",
    "print(\"Results saved to data/hypothesis_test_results.csv\")\n",
    "\n",
    "# Track with DVC\n",
    "!dvc add data/plots/claim_frequency_province.png data/plots/claim_severity_zip.png data/plots/margin_zipcode.png data/plots/claim_frequency_gender.png\n",
    "!dvc add data/hypothesis_test_results.csv\n",
    "!dvc push"
   ]
  }
 ],
 "metadata": {
  "kernelspec": {
   "display_name": "insurance",
   "language": "python",
   "name": "python3"
  },
  "language_info": {
   "codemirror_mode": {
    "name": "ipython",
    "version": 3
   },
   "file_extension": ".py",
   "mimetype": "text/x-python",
   "name": "python",
   "nbconvert_exporter": "python",
   "pygments_lexer": "ipython3",
   "version": "3.13.5"
  }
 },
 "nbformat": 4,
 "nbformat_minor": 4
}
